{
 "cells": [
  {
   "cell_type": "code",
   "execution_count": 1,
   "id": "1acfc667",
   "metadata": {},
   "outputs": [],
   "source": [
    "import numpy as np\n",
    "\n",
    "from ensemble_runner import EnsemblePredictor"
   ]
  },
  {
   "cell_type": "markdown",
   "id": "6fd17107",
   "metadata": {},
   "source": [
    "# CIFAR100"
   ]
  },
  {
   "cell_type": "code",
   "execution_count": 2,
   "id": "b7e4b7a2",
   "metadata": {},
   "outputs": [],
   "source": [
    "model_cfg = {\n",
    "    'num_classes': 100,\n",
    "    'depth': 164,\n",
    "    'device': 'cuda:0'\n",
    "}"
   ]
  },
  {
   "cell_type": "code",
   "execution_count": 3,
   "id": "f02d37b0",
   "metadata": {},
   "outputs": [],
   "source": [
    "def predict(folders):\n",
    "    predictor = EnsemblePredictor(model_cfg, folders=folders)\n",
    "    accuracy = predictor.evaluate().item()\n",
    "    print('ensemble accuracy: {:.4f}'.format(accuracy))\n",
    "    return 1 - accuracy"
   ]
  },
  {
   "cell_type": "markdown",
   "id": "fcf91469",
   "metadata": {},
   "source": [
    "### Single models"
   ]
  },
  {
   "cell_type": "code",
   "execution_count": 4,
   "id": "114e2e86",
   "metadata": {},
   "outputs": [
    {
     "name": "stdout",
     "output_type": "stream",
     "text": [
      "Files already downloaded and verified\n"
     ]
    },
    {
     "data": {
      "application/json": {
       "ascii": false,
       "bar_format": null,
       "colour": null,
       "elapsed": 0.023589611053466797,
       "initial": 0,
       "n": 0,
       "ncols": null,
       "nrows": 76,
       "postfix": null,
       "prefix": "",
       "rate": null,
       "total": 79,
       "unit": "it",
       "unit_divisor": 1000,
       "unit_scale": false
      },
      "application/vnd.jupyter.widget-view+json": {
       "model_id": "4e82f90c631d4b15bc1570267bb18d89",
       "version_major": 2,
       "version_minor": 0
      },
      "text/plain": [
       "  0%|          | 0/79 [00:00<?, ?it/s]"
      ]
     },
     "metadata": {},
     "output_type": "display_data"
    },
    {
     "name": "stdout",
     "output_type": "stream",
     "text": [
      "ensemble accuracy: 0.7635\n"
     ]
    }
   ],
   "source": [
    "folders = [\n",
    "    '../ckpt_ind_1_cifar100/',\n",
    "]\n",
    "error_1 = predict(folders)"
   ]
  },
  {
   "cell_type": "code",
   "execution_count": 5,
   "id": "0af36f7d",
   "metadata": {},
   "outputs": [
    {
     "name": "stdout",
     "output_type": "stream",
     "text": [
      "Files already downloaded and verified\n"
     ]
    },
    {
     "data": {
      "application/json": {
       "ascii": false,
       "bar_format": null,
       "colour": null,
       "elapsed": 0.01788020133972168,
       "initial": 0,
       "n": 0,
       "ncols": null,
       "nrows": 76,
       "postfix": null,
       "prefix": "",
       "rate": null,
       "total": 79,
       "unit": "it",
       "unit_divisor": 1000,
       "unit_scale": false
      },
      "application/vnd.jupyter.widget-view+json": {
       "model_id": "795d981783354adda25296c4aaeb7ab0",
       "version_major": 2,
       "version_minor": 0
      },
      "text/plain": [
       "  0%|          | 0/79 [00:00<?, ?it/s]"
      ]
     },
     "metadata": {},
     "output_type": "display_data"
    },
    {
     "name": "stdout",
     "output_type": "stream",
     "text": [
      "ensemble accuracy: 0.7666\n"
     ]
    }
   ],
   "source": [
    "folders = [\n",
    "    '../ckpt_ind_2_cifar100',\n",
    "]\n",
    "error_2 = predict(folders)"
   ]
  },
  {
   "cell_type": "code",
   "execution_count": 6,
   "id": "bd04c7c2",
   "metadata": {},
   "outputs": [
    {
     "name": "stdout",
     "output_type": "stream",
     "text": [
      "Files already downloaded and verified\n"
     ]
    },
    {
     "data": {
      "application/json": {
       "ascii": false,
       "bar_format": null,
       "colour": null,
       "elapsed": 0.01762104034423828,
       "initial": 0,
       "n": 0,
       "ncols": null,
       "nrows": 76,
       "postfix": null,
       "prefix": "",
       "rate": null,
       "total": 79,
       "unit": "it",
       "unit_divisor": 1000,
       "unit_scale": false
      },
      "application/vnd.jupyter.widget-view+json": {
       "model_id": "7f451081c0fb41059d9cf11019a8d885",
       "version_major": 2,
       "version_minor": 0
      },
      "text/plain": [
       "  0%|          | 0/79 [00:00<?, ?it/s]"
      ]
     },
     "metadata": {},
     "output_type": "display_data"
    },
    {
     "name": "stdout",
     "output_type": "stream",
     "text": [
      "ensemble accuracy: 0.7648\n"
     ]
    }
   ],
   "source": [
    "folders = [\n",
    "    '../ckpt_ind_3_cifar100',\n",
    "]\n",
    "error_3 = predict(folders)"
   ]
  },
  {
   "cell_type": "markdown",
   "id": "583330fb",
   "metadata": {},
   "source": [
    "#### Mean error:"
   ]
  },
  {
   "cell_type": "code",
   "execution_count": 7,
   "id": "785c66ea",
   "metadata": {},
   "outputs": [
    {
     "data": {
      "text/plain": [
       "(0.23503337303797403, 0.0012710366200537051)"
      ]
     },
     "execution_count": 7,
     "metadata": {},
     "output_type": "execute_result"
    }
   ],
   "source": [
    "np.mean([error_1, error_2, error_3]), np.std([error_1, error_2, error_3])"
   ]
  },
  {
   "cell_type": "markdown",
   "id": "759f2e77",
   "metadata": {},
   "source": [
    "### Two models"
   ]
  },
  {
   "cell_type": "code",
   "execution_count": 8,
   "id": "8fac04f3",
   "metadata": {},
   "outputs": [
    {
     "name": "stdout",
     "output_type": "stream",
     "text": [
      "Files already downloaded and verified\n"
     ]
    },
    {
     "data": {
      "application/json": {
       "ascii": false,
       "bar_format": null,
       "colour": null,
       "elapsed": 0.017693281173706055,
       "initial": 0,
       "n": 0,
       "ncols": null,
       "nrows": 76,
       "postfix": null,
       "prefix": "",
       "rate": null,
       "total": 79,
       "unit": "it",
       "unit_divisor": 1000,
       "unit_scale": false
      },
      "application/vnd.jupyter.widget-view+json": {
       "model_id": "5ac36a5949fc4a8bb38a9e023d2b1892",
       "version_major": 2,
       "version_minor": 0
      },
      "text/plain": [
       "  0%|          | 0/79 [00:00<?, ?it/s]"
      ]
     },
     "metadata": {},
     "output_type": "display_data"
    },
    {
     "name": "stdout",
     "output_type": "stream",
     "text": [
      "ensemble accuracy: 0.7871\n"
     ]
    }
   ],
   "source": [
    "folders = [\n",
    "    '../ckpt_ind_2_cifar100',\n",
    "    '../ckpt_ind_3_cifar100',\n",
    "]\n",
    "error_two_models = predict(folders)"
   ]
  },
  {
   "cell_type": "code",
   "execution_count": 9,
   "id": "c3cf9b6b",
   "metadata": {},
   "outputs": [
    {
     "data": {
      "text/plain": [
       "0.2129000425338745"
      ]
     },
     "execution_count": 9,
     "metadata": {},
     "output_type": "execute_result"
    }
   ],
   "source": [
    "error_two_models"
   ]
  },
  {
   "cell_type": "markdown",
   "id": "2ea0beb2",
   "metadata": {},
   "source": [
    "### Three models"
   ]
  },
  {
   "cell_type": "code",
   "execution_count": 10,
   "id": "9735bd7f",
   "metadata": {},
   "outputs": [
    {
     "name": "stdout",
     "output_type": "stream",
     "text": [
      "Files already downloaded and verified\n"
     ]
    },
    {
     "data": {
      "application/json": {
       "ascii": false,
       "bar_format": null,
       "colour": null,
       "elapsed": 0.0178830623626709,
       "initial": 0,
       "n": 0,
       "ncols": null,
       "nrows": 76,
       "postfix": null,
       "prefix": "",
       "rate": null,
       "total": 79,
       "unit": "it",
       "unit_divisor": 1000,
       "unit_scale": false
      },
      "application/vnd.jupyter.widget-view+json": {
       "model_id": "53695ef3fbe34be9883beec45592508a",
       "version_major": 2,
       "version_minor": 0
      },
      "text/plain": [
       "  0%|          | 0/79 [00:00<?, ?it/s]"
      ]
     },
     "metadata": {},
     "output_type": "display_data"
    },
    {
     "name": "stdout",
     "output_type": "stream",
     "text": [
      "ensemble accuracy: 0.7951\n"
     ]
    }
   ],
   "source": [
    "folders = [\n",
    "    '../ckpt_ind_1_cifar100',\n",
    "    '../ckpt_ind_2_cifar100',\n",
    "    '../ckpt_ind_3_cifar100',\n",
    "]\n",
    "error_three_models = predict(folders)"
   ]
  },
  {
   "cell_type": "code",
   "execution_count": 11,
   "id": "1d65c5a9",
   "metadata": {},
   "outputs": [
    {
     "data": {
      "text/plain": [
       "0.20490002632141113"
      ]
     },
     "execution_count": 11,
     "metadata": {},
     "output_type": "execute_result"
    }
   ],
   "source": [
    "error_three_models"
   ]
  },
  {
   "cell_type": "markdown",
   "id": "1ed76557",
   "metadata": {},
   "source": [
    "## SSE"
   ]
  },
  {
   "cell_type": "markdown",
   "id": "461f8938",
   "metadata": {},
   "source": [
    "### 1 * Bank"
   ]
  },
  {
   "cell_type": "code",
   "execution_count": 12,
   "id": "2dbe565a",
   "metadata": {},
   "outputs": [
    {
     "name": "stdout",
     "output_type": "stream",
     "text": [
      "Files already downloaded and verified\n"
     ]
    },
    {
     "data": {
      "application/json": {
       "ascii": false,
       "bar_format": null,
       "colour": null,
       "elapsed": 0.017818927764892578,
       "initial": 0,
       "n": 0,
       "ncols": null,
       "nrows": 76,
       "postfix": null,
       "prefix": "",
       "rate": null,
       "total": 79,
       "unit": "it",
       "unit_divisor": 1000,
       "unit_scale": false
      },
      "application/vnd.jupyter.widget-view+json": {
       "model_id": "752f379695ef437d9ad58ed9c226a9c5",
       "version_major": 2,
       "version_minor": 0
      },
      "text/plain": [
       "  0%|          | 0/79 [00:00<?, ?it/s]"
      ]
     },
     "metadata": {},
     "output_type": "display_data"
    },
    {
     "name": "stdout",
     "output_type": "stream",
     "text": [
      "ensemble accuracy: 0.7855\n"
     ]
    },
    {
     "data": {
      "text/plain": [
       "0.21450001001358032"
      ]
     },
     "execution_count": 12,
     "metadata": {},
     "output_type": "execute_result"
    }
   ],
   "source": [
    "folders = [\n",
    "    '../sse_ckpt_1_cifar100'\n",
    "]\n",
    "error_sse_models_1 = predict(folders)\n",
    "error_sse_models_1"
   ]
  },
  {
   "cell_type": "code",
   "execution_count": 13,
   "id": "6c290f2e",
   "metadata": {},
   "outputs": [
    {
     "name": "stdout",
     "output_type": "stream",
     "text": [
      "Files already downloaded and verified\n"
     ]
    },
    {
     "data": {
      "application/json": {
       "ascii": false,
       "bar_format": null,
       "colour": null,
       "elapsed": 0.017299652099609375,
       "initial": 0,
       "n": 0,
       "ncols": null,
       "nrows": 76,
       "postfix": null,
       "prefix": "",
       "rate": null,
       "total": 79,
       "unit": "it",
       "unit_divisor": 1000,
       "unit_scale": false
      },
      "application/vnd.jupyter.widget-view+json": {
       "model_id": "ccea395f91804a4cabc9f4ad3331c566",
       "version_major": 2,
       "version_minor": 0
      },
      "text/plain": [
       "  0%|          | 0/79 [00:00<?, ?it/s]"
      ]
     },
     "metadata": {},
     "output_type": "display_data"
    },
    {
     "name": "stdout",
     "output_type": "stream",
     "text": [
      "ensemble accuracy: 0.7850\n"
     ]
    },
    {
     "data": {
      "text/plain": [
       "0.21500003337860107"
      ]
     },
     "execution_count": 13,
     "metadata": {},
     "output_type": "execute_result"
    }
   ],
   "source": [
    "folders = [\n",
    "    '../sse_ckpt_2_cifar100'\n",
    "]\n",
    "error_sse_models_2 = predict(folders)\n",
    "error_sse_models_2"
   ]
  },
  {
   "cell_type": "code",
   "execution_count": 14,
   "id": "382a0bfe",
   "metadata": {},
   "outputs": [
    {
     "name": "stdout",
     "output_type": "stream",
     "text": [
      "Files already downloaded and verified\n"
     ]
    },
    {
     "data": {
      "application/json": {
       "ascii": false,
       "bar_format": null,
       "colour": null,
       "elapsed": 0.01735091209411621,
       "initial": 0,
       "n": 0,
       "ncols": null,
       "nrows": 76,
       "postfix": null,
       "prefix": "",
       "rate": null,
       "total": 79,
       "unit": "it",
       "unit_divisor": 1000,
       "unit_scale": false
      },
      "application/vnd.jupyter.widget-view+json": {
       "model_id": "0a9119dff9594116b344b304febf25cf",
       "version_major": 2,
       "version_minor": 0
      },
      "text/plain": [
       "  0%|          | 0/79 [00:00<?, ?it/s]"
      ]
     },
     "metadata": {},
     "output_type": "display_data"
    },
    {
     "name": "stdout",
     "output_type": "stream",
     "text": [
      "ensemble accuracy: 0.7868\n"
     ]
    },
    {
     "data": {
      "text/plain": [
       "0.21320003271102905"
      ]
     },
     "execution_count": 14,
     "metadata": {},
     "output_type": "execute_result"
    }
   ],
   "source": [
    "folders = [\n",
    "    '../sse_ckpt_3_cifar100'\n",
    "]\n",
    "error_sse_models_3 = predict(folders)\n",
    "error_sse_models_3"
   ]
  },
  {
   "cell_type": "code",
   "execution_count": 15,
   "id": "b6fc8fd5",
   "metadata": {},
   "outputs": [
    {
     "data": {
      "text/plain": [
       "(0.21423335870107016, 0.000758651344014486)"
      ]
     },
     "execution_count": 15,
     "metadata": {},
     "output_type": "execute_result"
    }
   ],
   "source": [
    "np.mean([error_sse_models_1, error_sse_models_2, error_sse_models_3]), \\\n",
    "np.std([error_sse_models_1, error_sse_models_2, error_sse_models_3])"
   ]
  },
  {
   "cell_type": "markdown",
   "id": "c9882985",
   "metadata": {},
   "source": [
    "### 2 * Bank"
   ]
  },
  {
   "cell_type": "code",
   "execution_count": 16,
   "id": "b5451552",
   "metadata": {},
   "outputs": [
    {
     "name": "stdout",
     "output_type": "stream",
     "text": [
      "Files already downloaded and verified\n"
     ]
    },
    {
     "data": {
      "application/json": {
       "ascii": false,
       "bar_format": null,
       "colour": null,
       "elapsed": 0.017718791961669922,
       "initial": 0,
       "n": 0,
       "ncols": null,
       "nrows": 76,
       "postfix": null,
       "prefix": "",
       "rate": null,
       "total": 79,
       "unit": "it",
       "unit_divisor": 1000,
       "unit_scale": false
      },
      "application/vnd.jupyter.widget-view+json": {
       "model_id": "cb245b1235b04bb48ef009ddc48c197b",
       "version_major": 2,
       "version_minor": 0
      },
      "text/plain": [
       "  0%|          | 0/79 [00:00<?, ?it/s]"
      ]
     },
     "metadata": {},
     "output_type": "display_data"
    },
    {
     "name": "stdout",
     "output_type": "stream",
     "text": [
      "ensemble accuracy: 0.8016\n"
     ]
    },
    {
     "data": {
      "text/plain": [
       "0.19840002059936523"
      ]
     },
     "execution_count": 16,
     "metadata": {},
     "output_type": "execute_result"
    }
   ],
   "source": [
    "folders = [\n",
    "    '../sse_ckpt_1_cifar100',\n",
    "    '../sse_ckpt_3_cifar100'\n",
    "]\n",
    "error_sse_models_2b = predict(folders)\n",
    "error_sse_models_2b"
   ]
  },
  {
   "cell_type": "markdown",
   "id": "a9e5e392",
   "metadata": {},
   "source": [
    "### 3 * Bank"
   ]
  },
  {
   "cell_type": "code",
   "execution_count": 17,
   "id": "31707e4c",
   "metadata": {},
   "outputs": [
    {
     "name": "stdout",
     "output_type": "stream",
     "text": [
      "Files already downloaded and verified\n"
     ]
    },
    {
     "data": {
      "application/json": {
       "ascii": false,
       "bar_format": null,
       "colour": null,
       "elapsed": 0.017543315887451172,
       "initial": 0,
       "n": 0,
       "ncols": null,
       "nrows": 76,
       "postfix": null,
       "prefix": "",
       "rate": null,
       "total": 79,
       "unit": "it",
       "unit_divisor": 1000,
       "unit_scale": false
      },
      "application/vnd.jupyter.widget-view+json": {
       "model_id": "715ebebb1afb4eedab420bf076700840",
       "version_major": 2,
       "version_minor": 0
      },
      "text/plain": [
       "  0%|          | 0/79 [00:00<?, ?it/s]"
      ]
     },
     "metadata": {},
     "output_type": "display_data"
    },
    {
     "name": "stdout",
     "output_type": "stream",
     "text": [
      "ensemble accuracy: 0.8057\n"
     ]
    },
    {
     "data": {
      "text/plain": [
       "0.19429999589920044"
      ]
     },
     "execution_count": 17,
     "metadata": {},
     "output_type": "execute_result"
    }
   ],
   "source": [
    "folders = [\n",
    "    '../sse_ckpt_1_cifar100',\n",
    "    '../sse_ckpt_2_cifar100',\n",
    "    '../sse_ckpt_3_cifar100'\n",
    "]\n",
    "error_sse_models_3b = predict(folders)\n",
    "error_sse_models_3b"
   ]
  },
  {
   "cell_type": "markdown",
   "id": "add3174c",
   "metadata": {},
   "source": [
    "## FGE"
   ]
  },
  {
   "cell_type": "markdown",
   "id": "6997e64b",
   "metadata": {},
   "source": [
    "### 1 * Bank"
   ]
  },
  {
   "cell_type": "code",
   "execution_count": 18,
   "id": "e60e1f27",
   "metadata": {},
   "outputs": [
    {
     "name": "stdout",
     "output_type": "stream",
     "text": [
      "Files already downloaded and verified\n"
     ]
    },
    {
     "data": {
      "application/json": {
       "ascii": false,
       "bar_format": null,
       "colour": null,
       "elapsed": 0.01737833023071289,
       "initial": 0,
       "n": 0,
       "ncols": null,
       "nrows": 76,
       "postfix": null,
       "prefix": "",
       "rate": null,
       "total": 79,
       "unit": "it",
       "unit_divisor": 1000,
       "unit_scale": false
      },
      "application/vnd.jupyter.widget-view+json": {
       "model_id": "57c3e61ef17546f9856386a619a500a2",
       "version_major": 2,
       "version_minor": 0
      },
      "text/plain": [
       "  0%|          | 0/79 [00:00<?, ?it/s]"
      ]
     },
     "metadata": {},
     "output_type": "display_data"
    },
    {
     "name": "stdout",
     "output_type": "stream",
     "text": [
      "ensemble accuracy: 0.7761\n"
     ]
    },
    {
     "data": {
      "text/plain": [
       "0.22390002012252808"
      ]
     },
     "execution_count": 18,
     "metadata": {},
     "output_type": "execute_result"
    }
   ],
   "source": [
    "folders = [\n",
    "    '../fge_ckpt_1_cifar100'\n",
    "]\n",
    "error_fge_models_1 = predict(folders)\n",
    "error_fge_models_1"
   ]
  },
  {
   "cell_type": "code",
   "execution_count": 19,
   "id": "9d0e6323",
   "metadata": {},
   "outputs": [
    {
     "name": "stdout",
     "output_type": "stream",
     "text": [
      "Files already downloaded and verified\n"
     ]
    },
    {
     "data": {
      "application/json": {
       "ascii": false,
       "bar_format": null,
       "colour": null,
       "elapsed": 0.01729869842529297,
       "initial": 0,
       "n": 0,
       "ncols": null,
       "nrows": 76,
       "postfix": null,
       "prefix": "",
       "rate": null,
       "total": 79,
       "unit": "it",
       "unit_divisor": 1000,
       "unit_scale": false
      },
      "application/vnd.jupyter.widget-view+json": {
       "model_id": "97a535241f504ab18df4dc449520aa47",
       "version_major": 2,
       "version_minor": 0
      },
      "text/plain": [
       "  0%|          | 0/79 [00:00<?, ?it/s]"
      ]
     },
     "metadata": {},
     "output_type": "display_data"
    },
    {
     "name": "stdout",
     "output_type": "stream",
     "text": [
      "ensemble accuracy: 0.7742\n"
     ]
    },
    {
     "data": {
      "text/plain": [
       "0.2258000373840332"
      ]
     },
     "execution_count": 19,
     "metadata": {},
     "output_type": "execute_result"
    }
   ],
   "source": [
    "folders = [\n",
    "    '../fge_ckpt_2_cifar100'\n",
    "]\n",
    "error_fge_models_2 = predict(folders)\n",
    "error_fge_models_2"
   ]
  },
  {
   "cell_type": "code",
   "execution_count": 20,
   "id": "e9336aab",
   "metadata": {},
   "outputs": [
    {
     "name": "stdout",
     "output_type": "stream",
     "text": [
      "Files already downloaded and verified\n"
     ]
    },
    {
     "data": {
      "application/json": {
       "ascii": false,
       "bar_format": null,
       "colour": null,
       "elapsed": 0.017462491989135742,
       "initial": 0,
       "n": 0,
       "ncols": null,
       "nrows": 76,
       "postfix": null,
       "prefix": "",
       "rate": null,
       "total": 79,
       "unit": "it",
       "unit_divisor": 1000,
       "unit_scale": false
      },
      "application/vnd.jupyter.widget-view+json": {
       "model_id": "84f3f3f696374c30916e73d4e46cd107",
       "version_major": 2,
       "version_minor": 0
      },
      "text/plain": [
       "  0%|          | 0/79 [00:00<?, ?it/s]"
      ]
     },
     "metadata": {},
     "output_type": "display_data"
    },
    {
     "name": "stdout",
     "output_type": "stream",
     "text": [
      "ensemble accuracy: 0.7759\n"
     ]
    },
    {
     "data": {
      "text/plain": [
       "0.2240999937057495"
      ]
     },
     "execution_count": 20,
     "metadata": {},
     "output_type": "execute_result"
    }
   ],
   "source": [
    "folders = [\n",
    "    '../fge_ckpt_3_cifar100'\n",
    "]\n",
    "error_fge_models_3 = predict(folders)\n",
    "error_fge_models_3"
   ]
  },
  {
   "cell_type": "code",
   "execution_count": 21,
   "id": "1ef4669c",
   "metadata": {},
   "outputs": [
    {
     "data": {
      "text/plain": [
       "(0.22460001707077026, 0.0008524607215504097)"
      ]
     },
     "execution_count": 21,
     "metadata": {},
     "output_type": "execute_result"
    }
   ],
   "source": [
    "np.mean([error_fge_models_1, error_fge_models_2, error_fge_models_3]), \\\n",
    "np.std([error_fge_models_1, error_fge_models_2, error_fge_models_3])"
   ]
  },
  {
   "cell_type": "markdown",
   "id": "3c9324a0",
   "metadata": {},
   "source": [
    "### 2 * Bank"
   ]
  },
  {
   "cell_type": "code",
   "execution_count": 22,
   "id": "38054ffb",
   "metadata": {},
   "outputs": [
    {
     "name": "stdout",
     "output_type": "stream",
     "text": [
      "Files already downloaded and verified\n"
     ]
    },
    {
     "data": {
      "application/json": {
       "ascii": false,
       "bar_format": null,
       "colour": null,
       "elapsed": 0.017795562744140625,
       "initial": 0,
       "n": 0,
       "ncols": null,
       "nrows": 76,
       "postfix": null,
       "prefix": "",
       "rate": null,
       "total": 79,
       "unit": "it",
       "unit_divisor": 1000,
       "unit_scale": false
      },
      "application/vnd.jupyter.widget-view+json": {
       "model_id": "57dc4c6578034c91a8d83e8d2c9f387c",
       "version_major": 2,
       "version_minor": 0
      },
      "text/plain": [
       "  0%|          | 0/79 [00:00<?, ?it/s]"
      ]
     },
     "metadata": {},
     "output_type": "display_data"
    },
    {
     "name": "stdout",
     "output_type": "stream",
     "text": [
      "ensemble accuracy: 0.7932\n"
     ]
    },
    {
     "data": {
      "text/plain": [
       "0.20680004358291626"
      ]
     },
     "execution_count": 22,
     "metadata": {},
     "output_type": "execute_result"
    }
   ],
   "source": [
    "folders = [\n",
    "    '../fge_ckpt_1_cifar100',\n",
    "    '../fge_ckpt_2_cifar100'\n",
    "]\n",
    "error_fge_models_2b = predict(folders)\n",
    "error_fge_models_2b"
   ]
  },
  {
   "cell_type": "markdown",
   "id": "3d520000",
   "metadata": {},
   "source": [
    "### 3 * Bank"
   ]
  },
  {
   "cell_type": "code",
   "execution_count": 23,
   "id": "a23773ad",
   "metadata": {},
   "outputs": [
    {
     "name": "stdout",
     "output_type": "stream",
     "text": [
      "Files already downloaded and verified\n"
     ]
    },
    {
     "data": {
      "application/json": {
       "ascii": false,
       "bar_format": null,
       "colour": null,
       "elapsed": 0.01775670051574707,
       "initial": 0,
       "n": 0,
       "ncols": null,
       "nrows": 76,
       "postfix": null,
       "prefix": "",
       "rate": null,
       "total": 79,
       "unit": "it",
       "unit_divisor": 1000,
       "unit_scale": false
      },
      "application/vnd.jupyter.widget-view+json": {
       "model_id": "2df15f3994f24ae2bbebe237ce48b9b3",
       "version_major": 2,
       "version_minor": 0
      },
      "text/plain": [
       "  0%|          | 0/79 [00:00<?, ?it/s]"
      ]
     },
     "metadata": {},
     "output_type": "display_data"
    },
    {
     "name": "stdout",
     "output_type": "stream",
     "text": [
      "ensemble accuracy: 0.8023\n"
     ]
    },
    {
     "data": {
      "text/plain": [
       "0.19770002365112305"
      ]
     },
     "execution_count": 23,
     "metadata": {},
     "output_type": "execute_result"
    }
   ],
   "source": [
    "folders = [\n",
    "    '../fge_ckpt_1_cifar100',\n",
    "    '../fge_ckpt_2_cifar100',\n",
    "    '../fge_ckpt_3_cifar100'\n",
    "]\n",
    "error_fge_models_3b = predict(folders)\n",
    "error_fge_models_3b"
   ]
  }
 ],
 "metadata": {
  "kernelspec": {
   "display_name": "Python 3 (ipykernel)",
   "language": "python",
   "name": "python3"
  },
  "language_info": {
   "codemirror_mode": {
    "name": "ipython",
    "version": 3
   },
   "file_extension": ".py",
   "mimetype": "text/x-python",
   "name": "python",
   "nbconvert_exporter": "python",
   "pygments_lexer": "ipython3",
   "version": "3.9.5"
  }
 },
 "nbformat": 4,
 "nbformat_minor": 5
}

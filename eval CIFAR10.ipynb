{
 "cells": [
  {
   "cell_type": "code",
   "execution_count": 1,
   "id": "a0549106",
   "metadata": {},
   "outputs": [],
   "source": [
    "import numpy as np\n",
    "\n",
    "from ensemble_runner import EnsemblePredictor"
   ]
  },
  {
   "cell_type": "markdown",
   "id": "d7a41370",
   "metadata": {},
   "source": [
    "# CIFAR10"
   ]
  },
  {
   "cell_type": "code",
   "execution_count": 2,
   "id": "f6cb48be",
   "metadata": {},
   "outputs": [],
   "source": [
    "model_cfg = {\n",
    "    'num_classes': 10,\n",
    "    'depth': 164,\n",
    "    'device': 'cuda:0'\n",
    "}"
   ]
  },
  {
   "cell_type": "code",
   "execution_count": 3,
   "id": "8606f395",
   "metadata": {},
   "outputs": [],
   "source": [
    "def predict(folders):\n",
    "    predictor = EnsemblePredictor(model_cfg, folders=folders)\n",
    "    accuracy = predictor.evaluate().item()\n",
    "    print('ensemble accuracy: {:.4f}'.format(accuracy))\n",
    "    return 1 - accuracy"
   ]
  },
  {
   "cell_type": "markdown",
   "id": "5a79e038",
   "metadata": {},
   "source": [
    "### Single models"
   ]
  },
  {
   "cell_type": "code",
   "execution_count": 4,
   "id": "4571b243",
   "metadata": {},
   "outputs": [
    {
     "name": "stdout",
     "output_type": "stream",
     "text": [
      "Files already downloaded and verified\n"
     ]
    },
    {
     "data": {
      "application/json": {
       "ascii": false,
       "bar_format": null,
       "colour": null,
       "elapsed": 0.024100303649902344,
       "initial": 0,
       "n": 0,
       "ncols": null,
       "nrows": 76,
       "postfix": null,
       "prefix": "",
       "rate": null,
       "total": 79,
       "unit": "it",
       "unit_divisor": 1000,
       "unit_scale": false
      },
      "application/vnd.jupyter.widget-view+json": {
       "model_id": "f2563dee9aa04aceaabfcccdad96e454",
       "version_major": 2,
       "version_minor": 0
      },
      "text/plain": [
       "  0%|          | 0/79 [00:00<?, ?it/s]"
      ]
     },
     "metadata": {},
     "output_type": "display_data"
    },
    {
     "name": "stdout",
     "output_type": "stream",
     "text": [
      "ensemble accuracy: 0.9493\n"
     ]
    }
   ],
   "source": [
    "folders = [\n",
    "    '../ckpt_ind_1',\n",
    "]\n",
    "error_1 = predict(folders)"
   ]
  },
  {
   "cell_type": "code",
   "execution_count": 5,
   "id": "a5da86fe",
   "metadata": {},
   "outputs": [
    {
     "name": "stdout",
     "output_type": "stream",
     "text": [
      "Files already downloaded and verified\n"
     ]
    },
    {
     "data": {
      "application/json": {
       "ascii": false,
       "bar_format": null,
       "colour": null,
       "elapsed": 0.01794600486755371,
       "initial": 0,
       "n": 0,
       "ncols": null,
       "nrows": 76,
       "postfix": null,
       "prefix": "",
       "rate": null,
       "total": 79,
       "unit": "it",
       "unit_divisor": 1000,
       "unit_scale": false
      },
      "application/vnd.jupyter.widget-view+json": {
       "model_id": "d4f5d59d023b4007abaad9c0c4b005d7",
       "version_major": 2,
       "version_minor": 0
      },
      "text/plain": [
       "  0%|          | 0/79 [00:00<?, ?it/s]"
      ]
     },
     "metadata": {},
     "output_type": "display_data"
    },
    {
     "name": "stdout",
     "output_type": "stream",
     "text": [
      "ensemble accuracy: 0.9516\n"
     ]
    }
   ],
   "source": [
    "folders = [\n",
    "    '../ckpt_ind_2',\n",
    "]\n",
    "error_2 = predict(folders)"
   ]
  },
  {
   "cell_type": "code",
   "execution_count": 6,
   "id": "d3a43956",
   "metadata": {},
   "outputs": [
    {
     "name": "stdout",
     "output_type": "stream",
     "text": [
      "Files already downloaded and verified\n"
     ]
    },
    {
     "data": {
      "application/json": {
       "ascii": false,
       "bar_format": null,
       "colour": null,
       "elapsed": 0.01769733428955078,
       "initial": 0,
       "n": 0,
       "ncols": null,
       "nrows": 76,
       "postfix": null,
       "prefix": "",
       "rate": null,
       "total": 79,
       "unit": "it",
       "unit_divisor": 1000,
       "unit_scale": false
      },
      "application/vnd.jupyter.widget-view+json": {
       "model_id": "95c882505d714a4292f1e281e247ba78",
       "version_major": 2,
       "version_minor": 0
      },
      "text/plain": [
       "  0%|          | 0/79 [00:00<?, ?it/s]"
      ]
     },
     "metadata": {},
     "output_type": "display_data"
    },
    {
     "name": "stdout",
     "output_type": "stream",
     "text": [
      "ensemble accuracy: 0.9499\n"
     ]
    }
   ],
   "source": [
    "folders = [\n",
    "    '../ckpt_ind_3',\n",
    "]\n",
    "error_3 = predict(folders)"
   ]
  },
  {
   "cell_type": "markdown",
   "id": "03d8ba79",
   "metadata": {},
   "source": [
    "#### Mean error:"
   ]
  },
  {
   "cell_type": "code",
   "execution_count": 7,
   "id": "33bb4a25",
   "metadata": {},
   "outputs": [
    {
     "data": {
      "text/plain": [
       "(0.049733360608418785, 0.0009740955147103261)"
      ]
     },
     "execution_count": 7,
     "metadata": {},
     "output_type": "execute_result"
    }
   ],
   "source": [
    "np.mean([error_1, error_2, error_3]), np.std([error_1, error_2, error_3])"
   ]
  },
  {
   "cell_type": "markdown",
   "id": "aee4bcd0",
   "metadata": {},
   "source": [
    "### Two models"
   ]
  },
  {
   "cell_type": "code",
   "execution_count": 8,
   "id": "8f5cd4b3",
   "metadata": {},
   "outputs": [
    {
     "name": "stdout",
     "output_type": "stream",
     "text": [
      "Files already downloaded and verified\n"
     ]
    },
    {
     "data": {
      "application/json": {
       "ascii": false,
       "bar_format": null,
       "colour": null,
       "elapsed": 0.017708301544189453,
       "initial": 0,
       "n": 0,
       "ncols": null,
       "nrows": 76,
       "postfix": null,
       "prefix": "",
       "rate": null,
       "total": 79,
       "unit": "it",
       "unit_divisor": 1000,
       "unit_scale": false
      },
      "application/vnd.jupyter.widget-view+json": {
       "model_id": "8404452b86f546d98c305402fc3522e7",
       "version_major": 2,
       "version_minor": 0
      },
      "text/plain": [
       "  0%|          | 0/79 [00:00<?, ?it/s]"
      ]
     },
     "metadata": {},
     "output_type": "display_data"
    },
    {
     "name": "stdout",
     "output_type": "stream",
     "text": [
      "ensemble accuracy: 0.9565\n"
     ]
    }
   ],
   "source": [
    "folders = [\n",
    "    '../ckpt_ind_2',\n",
    "    '../ckpt_ind_3',\n",
    "]\n",
    "error_two_models = predict(folders)"
   ]
  },
  {
   "cell_type": "code",
   "execution_count": 9,
   "id": "e91b81c1",
   "metadata": {},
   "outputs": [
    {
     "data": {
      "text/plain": [
       "0.04350000619888306"
      ]
     },
     "execution_count": 9,
     "metadata": {},
     "output_type": "execute_result"
    }
   ],
   "source": [
    "error_two_models"
   ]
  },
  {
   "cell_type": "markdown",
   "id": "72e33e23",
   "metadata": {},
   "source": [
    "### Three models"
   ]
  },
  {
   "cell_type": "code",
   "execution_count": 10,
   "id": "2dda1796",
   "metadata": {},
   "outputs": [
    {
     "name": "stdout",
     "output_type": "stream",
     "text": [
      "Files already downloaded and verified\n"
     ]
    },
    {
     "data": {
      "application/json": {
       "ascii": false,
       "bar_format": null,
       "colour": null,
       "elapsed": 0.018060922622680664,
       "initial": 0,
       "n": 0,
       "ncols": null,
       "nrows": 76,
       "postfix": null,
       "prefix": "",
       "rate": null,
       "total": 79,
       "unit": "it",
       "unit_divisor": 1000,
       "unit_scale": false
      },
      "application/vnd.jupyter.widget-view+json": {
       "model_id": "c273414fa47f43948afa70f8f22f80b7",
       "version_major": 2,
       "version_minor": 0
      },
      "text/plain": [
       "  0%|          | 0/79 [00:00<?, ?it/s]"
      ]
     },
     "metadata": {},
     "output_type": "display_data"
    },
    {
     "name": "stdout",
     "output_type": "stream",
     "text": [
      "ensemble accuracy: 0.9582\n"
     ]
    }
   ],
   "source": [
    "folders = [\n",
    "    '../ckpt_ind_1',\n",
    "    '../ckpt_ind_2',\n",
    "    '../ckpt_ind_3',\n",
    "]\n",
    "error_three_models = predict(folders)"
   ]
  },
  {
   "cell_type": "code",
   "execution_count": 11,
   "id": "619fb78a",
   "metadata": {},
   "outputs": [
    {
     "data": {
      "text/plain": [
       "0.04180002212524414"
      ]
     },
     "execution_count": 11,
     "metadata": {},
     "output_type": "execute_result"
    }
   ],
   "source": [
    "error_three_models"
   ]
  },
  {
   "cell_type": "markdown",
   "id": "7fec3138",
   "metadata": {},
   "source": [
    "## SSE"
   ]
  },
  {
   "cell_type": "markdown",
   "id": "32e7041a",
   "metadata": {},
   "source": [
    "### 1 * Bank"
   ]
  },
  {
   "cell_type": "code",
   "execution_count": 12,
   "id": "f2079796",
   "metadata": {},
   "outputs": [
    {
     "name": "stdout",
     "output_type": "stream",
     "text": [
      "Files already downloaded and verified\n"
     ]
    },
    {
     "data": {
      "application/json": {
       "ascii": false,
       "bar_format": null,
       "colour": null,
       "elapsed": 0.01835155487060547,
       "initial": 0,
       "n": 0,
       "ncols": null,
       "nrows": 76,
       "postfix": null,
       "prefix": "",
       "rate": null,
       "total": 79,
       "unit": "it",
       "unit_divisor": 1000,
       "unit_scale": false
      },
      "application/vnd.jupyter.widget-view+json": {
       "model_id": "dc684f04c6d54fb19f3aa5e6f2f8e6bc",
       "version_major": 2,
       "version_minor": 0
      },
      "text/plain": [
       "  0%|          | 0/79 [00:00<?, ?it/s]"
      ]
     },
     "metadata": {},
     "output_type": "display_data"
    },
    {
     "name": "stdout",
     "output_type": "stream",
     "text": [
      "ensemble accuracy: 0.9583\n"
     ]
    },
    {
     "data": {
      "text/plain": [
       "0.041700005531311035"
      ]
     },
     "execution_count": 12,
     "metadata": {},
     "output_type": "execute_result"
    }
   ],
   "source": [
    "folders = [\n",
    "    '../sse_ckpt_1_cifar10'\n",
    "]\n",
    "error_sse_models_1 = predict(folders)\n",
    "error_sse_models_1"
   ]
  },
  {
   "cell_type": "code",
   "execution_count": 13,
   "id": "7bde8dc1",
   "metadata": {},
   "outputs": [
    {
     "name": "stdout",
     "output_type": "stream",
     "text": [
      "Files already downloaded and verified\n"
     ]
    },
    {
     "data": {
      "application/json": {
       "ascii": false,
       "bar_format": null,
       "colour": null,
       "elapsed": 0.01781630516052246,
       "initial": 0,
       "n": 0,
       "ncols": null,
       "nrows": 76,
       "postfix": null,
       "prefix": "",
       "rate": null,
       "total": 79,
       "unit": "it",
       "unit_divisor": 1000,
       "unit_scale": false
      },
      "application/vnd.jupyter.widget-view+json": {
       "model_id": "132b27199c36442dbb7fd9e9f8c295ce",
       "version_major": 2,
       "version_minor": 0
      },
      "text/plain": [
       "  0%|          | 0/79 [00:00<?, ?it/s]"
      ]
     },
     "metadata": {},
     "output_type": "display_data"
    },
    {
     "name": "stdout",
     "output_type": "stream",
     "text": [
      "ensemble accuracy: 0.9565\n"
     ]
    },
    {
     "data": {
      "text/plain": [
       "0.04350000619888306"
      ]
     },
     "execution_count": 13,
     "metadata": {},
     "output_type": "execute_result"
    }
   ],
   "source": [
    "folders = [\n",
    "    '../sse_ckpt_2_cifar10'\n",
    "]\n",
    "error_sse_models_2 = predict(folders)\n",
    "error_sse_models_2"
   ]
  },
  {
   "cell_type": "code",
   "execution_count": 14,
   "id": "0f0891a8",
   "metadata": {},
   "outputs": [
    {
     "name": "stdout",
     "output_type": "stream",
     "text": [
      "Files already downloaded and verified\n"
     ]
    },
    {
     "data": {
      "application/json": {
       "ascii": false,
       "bar_format": null,
       "colour": null,
       "elapsed": 0.017942428588867188,
       "initial": 0,
       "n": 0,
       "ncols": null,
       "nrows": 76,
       "postfix": null,
       "prefix": "",
       "rate": null,
       "total": 79,
       "unit": "it",
       "unit_divisor": 1000,
       "unit_scale": false
      },
      "application/vnd.jupyter.widget-view+json": {
       "model_id": "7a616c73c6c744368c6b26f5c89edcd6",
       "version_major": 2,
       "version_minor": 0
      },
      "text/plain": [
       "  0%|          | 0/79 [00:00<?, ?it/s]"
      ]
     },
     "metadata": {},
     "output_type": "display_data"
    },
    {
     "name": "stdout",
     "output_type": "stream",
     "text": [
      "ensemble accuracy: 0.9589\n"
     ]
    },
    {
     "data": {
      "text/plain": [
       "0.04110002517700195"
      ]
     },
     "execution_count": 14,
     "metadata": {},
     "output_type": "execute_result"
    }
   ],
   "source": [
    "folders = [\n",
    "    '../sse_ckpt_3_cifar10'\n",
    "]\n",
    "error_sse_models_3 = predict(folders)\n",
    "error_sse_models_3"
   ]
  },
  {
   "cell_type": "code",
   "execution_count": 15,
   "id": "b5568286",
   "metadata": {},
   "outputs": [
    {
     "data": {
      "text/plain": [
       "(0.04210001230239868, 0.0010197977868297682)"
      ]
     },
     "execution_count": 15,
     "metadata": {},
     "output_type": "execute_result"
    }
   ],
   "source": [
    "np.mean([error_sse_models_1, error_sse_models_2, error_sse_models_3]), \\\n",
    "np.std([error_sse_models_1, error_sse_models_2, error_sse_models_3])"
   ]
  },
  {
   "cell_type": "markdown",
   "id": "3a609ddd",
   "metadata": {},
   "source": [
    "### 2 * Bank"
   ]
  },
  {
   "cell_type": "code",
   "execution_count": 16,
   "id": "3fd0c11d",
   "metadata": {},
   "outputs": [
    {
     "name": "stdout",
     "output_type": "stream",
     "text": [
      "Files already downloaded and verified\n"
     ]
    },
    {
     "data": {
      "application/json": {
       "ascii": false,
       "bar_format": null,
       "colour": null,
       "elapsed": 0.017913341522216797,
       "initial": 0,
       "n": 0,
       "ncols": null,
       "nrows": 76,
       "postfix": null,
       "prefix": "",
       "rate": null,
       "total": 79,
       "unit": "it",
       "unit_divisor": 1000,
       "unit_scale": false
      },
      "application/vnd.jupyter.widget-view+json": {
       "model_id": "614f7bdad16044128af6b47bf9583ee1",
       "version_major": 2,
       "version_minor": 0
      },
      "text/plain": [
       "  0%|          | 0/79 [00:00<?, ?it/s]"
      ]
     },
     "metadata": {},
     "output_type": "display_data"
    },
    {
     "name": "stdout",
     "output_type": "stream",
     "text": [
      "ensemble accuracy: 0.9618\n"
     ]
    },
    {
     "data": {
      "text/plain": [
       "0.0382000207901001"
      ]
     },
     "execution_count": 16,
     "metadata": {},
     "output_type": "execute_result"
    }
   ],
   "source": [
    "folders = [\n",
    "    '../sse_ckpt_1_cifar10',\n",
    "    '../sse_ckpt_3_cifar10'\n",
    "]\n",
    "error_sse_models_2b = predict(folders)\n",
    "error_sse_models_2b"
   ]
  },
  {
   "cell_type": "markdown",
   "id": "28fd60d3",
   "metadata": {},
   "source": [
    "### 3 * Bank"
   ]
  },
  {
   "cell_type": "code",
   "execution_count": 17,
   "id": "0574ca7d",
   "metadata": {},
   "outputs": [
    {
     "name": "stdout",
     "output_type": "stream",
     "text": [
      "Files already downloaded and verified\n"
     ]
    },
    {
     "data": {
      "application/json": {
       "ascii": false,
       "bar_format": null,
       "colour": null,
       "elapsed": 0.01786065101623535,
       "initial": 0,
       "n": 0,
       "ncols": null,
       "nrows": 76,
       "postfix": null,
       "prefix": "",
       "rate": null,
       "total": 79,
       "unit": "it",
       "unit_divisor": 1000,
       "unit_scale": false
      },
      "application/vnd.jupyter.widget-view+json": {
       "model_id": "f64d8ac993774c5889aa77d9f7ef9a40",
       "version_major": 2,
       "version_minor": 0
      },
      "text/plain": [
       "  0%|          | 0/79 [00:00<?, ?it/s]"
      ]
     },
     "metadata": {},
     "output_type": "display_data"
    },
    {
     "name": "stdout",
     "output_type": "stream",
     "text": [
      "ensemble accuracy: 0.9624\n"
     ]
    },
    {
     "data": {
      "text/plain": [
       "0.037600040435791016"
      ]
     },
     "execution_count": 17,
     "metadata": {},
     "output_type": "execute_result"
    }
   ],
   "source": [
    "folders = [\n",
    "    '../sse_ckpt_1_cifar10',\n",
    "    '../sse_ckpt_2_cifar10',\n",
    "    '../sse_ckpt_3_cifar10'\n",
    "]\n",
    "error_sse_models_3b = predict(folders)\n",
    "error_sse_models_3b"
   ]
  },
  {
   "cell_type": "markdown",
   "id": "dc64c5c1",
   "metadata": {},
   "source": [
    "## FGE"
   ]
  },
  {
   "cell_type": "markdown",
   "id": "71b2bd4e",
   "metadata": {},
   "source": [
    "### 1 * Bank"
   ]
  },
  {
   "cell_type": "code",
   "execution_count": 18,
   "id": "a37ff2f0",
   "metadata": {},
   "outputs": [
    {
     "name": "stdout",
     "output_type": "stream",
     "text": [
      "Files already downloaded and verified\n"
     ]
    },
    {
     "data": {
      "application/json": {
       "ascii": false,
       "bar_format": null,
       "colour": null,
       "elapsed": 0.01793670654296875,
       "initial": 0,
       "n": 0,
       "ncols": null,
       "nrows": 76,
       "postfix": null,
       "prefix": "",
       "rate": null,
       "total": 79,
       "unit": "it",
       "unit_divisor": 1000,
       "unit_scale": false
      },
      "application/vnd.jupyter.widget-view+json": {
       "model_id": "933147cbe0b2456e9ff5966f787d9a0e",
       "version_major": 2,
       "version_minor": 0
      },
      "text/plain": [
       "  0%|          | 0/79 [00:00<?, ?it/s]"
      ]
     },
     "metadata": {},
     "output_type": "display_data"
    },
    {
     "name": "stdout",
     "output_type": "stream",
     "text": [
      "ensemble accuracy: 0.9541\n"
     ]
    },
    {
     "data": {
      "text/plain": [
       "0.045900046825408936"
      ]
     },
     "execution_count": 18,
     "metadata": {},
     "output_type": "execute_result"
    }
   ],
   "source": [
    "folders = [\n",
    "    '../fge_ckpt_1'\n",
    "]\n",
    "error_fge_models_1 = predict(folders)\n",
    "error_fge_models_1"
   ]
  },
  {
   "cell_type": "code",
   "execution_count": 19,
   "id": "9d53b239",
   "metadata": {},
   "outputs": [
    {
     "name": "stdout",
     "output_type": "stream",
     "text": [
      "Files already downloaded and verified\n"
     ]
    },
    {
     "data": {
      "application/json": {
       "ascii": false,
       "bar_format": null,
       "colour": null,
       "elapsed": 0.018379688262939453,
       "initial": 0,
       "n": 0,
       "ncols": null,
       "nrows": 76,
       "postfix": null,
       "prefix": "",
       "rate": null,
       "total": 79,
       "unit": "it",
       "unit_divisor": 1000,
       "unit_scale": false
      },
      "application/vnd.jupyter.widget-view+json": {
       "model_id": "21c91afd92bd444c867d52536b15e1af",
       "version_major": 2,
       "version_minor": 0
      },
      "text/plain": [
       "  0%|          | 0/79 [00:00<?, ?it/s]"
      ]
     },
     "metadata": {},
     "output_type": "display_data"
    },
    {
     "name": "stdout",
     "output_type": "stream",
     "text": [
      "ensemble accuracy: 0.9557\n"
     ]
    },
    {
     "data": {
      "text/plain": [
       "0.04430001974105835"
      ]
     },
     "execution_count": 19,
     "metadata": {},
     "output_type": "execute_result"
    }
   ],
   "source": [
    "folders = [\n",
    "    '../fge_ckpt_2'\n",
    "]\n",
    "error_fge_models_2 = predict(folders)\n",
    "error_fge_models_2"
   ]
  },
  {
   "cell_type": "code",
   "execution_count": 20,
   "id": "a497803e",
   "metadata": {},
   "outputs": [
    {
     "name": "stdout",
     "output_type": "stream",
     "text": [
      "Files already downloaded and verified\n"
     ]
    },
    {
     "data": {
      "application/json": {
       "ascii": false,
       "bar_format": null,
       "colour": null,
       "elapsed": 0.01746344566345215,
       "initial": 0,
       "n": 0,
       "ncols": null,
       "nrows": 76,
       "postfix": null,
       "prefix": "",
       "rate": null,
       "total": 79,
       "unit": "it",
       "unit_divisor": 1000,
       "unit_scale": false
      },
      "application/vnd.jupyter.widget-view+json": {
       "model_id": "682542b3d5114ba48eeddfae551a7679",
       "version_major": 2,
       "version_minor": 0
      },
      "text/plain": [
       "  0%|          | 0/79 [00:00<?, ?it/s]"
      ]
     },
     "metadata": {},
     "output_type": "display_data"
    },
    {
     "name": "stdout",
     "output_type": "stream",
     "text": [
      "ensemble accuracy: 0.9534\n"
     ]
    },
    {
     "data": {
      "text/plain": [
       "0.04660004377365112"
      ]
     },
     "execution_count": 20,
     "metadata": {},
     "output_type": "execute_result"
    }
   ],
   "source": [
    "folders = [\n",
    "    '../fge_ckpt_3'\n",
    "]\n",
    "error_fge_models_3 = predict(folders)\n",
    "error_fge_models_3"
   ]
  },
  {
   "cell_type": "code",
   "execution_count": 21,
   "id": "cab83a47",
   "metadata": {},
   "outputs": [
    {
     "data": {
      "text/plain": [
       "(0.04560003678003947, 0.0009626464072607424)"
      ]
     },
     "execution_count": 21,
     "metadata": {},
     "output_type": "execute_result"
    }
   ],
   "source": [
    "np.mean([error_fge_models_1, error_fge_models_2, error_fge_models_3]), \\\n",
    "np.std([error_fge_models_1, error_fge_models_2, error_fge_models_3])"
   ]
  },
  {
   "cell_type": "markdown",
   "id": "181bfae9",
   "metadata": {},
   "source": [
    "### 2 * Bank"
   ]
  },
  {
   "cell_type": "code",
   "execution_count": 22,
   "id": "8f926836",
   "metadata": {},
   "outputs": [
    {
     "name": "stdout",
     "output_type": "stream",
     "text": [
      "Files already downloaded and verified\n"
     ]
    },
    {
     "data": {
      "application/json": {
       "ascii": false,
       "bar_format": null,
       "colour": null,
       "elapsed": 0.017576932907104492,
       "initial": 0,
       "n": 0,
       "ncols": null,
       "nrows": 76,
       "postfix": null,
       "prefix": "",
       "rate": null,
       "total": 79,
       "unit": "it",
       "unit_divisor": 1000,
       "unit_scale": false
      },
      "application/vnd.jupyter.widget-view+json": {
       "model_id": "9ce599c3ee724804b48281ae8a3f5a73",
       "version_major": 2,
       "version_minor": 0
      },
      "text/plain": [
       "  0%|          | 0/79 [00:00<?, ?it/s]"
      ]
     },
     "metadata": {},
     "output_type": "display_data"
    },
    {
     "name": "stdout",
     "output_type": "stream",
     "text": [
      "ensemble accuracy: 0.9586\n"
     ]
    },
    {
     "data": {
      "text/plain": [
       "0.041400015354156494"
      ]
     },
     "execution_count": 22,
     "metadata": {},
     "output_type": "execute_result"
    }
   ],
   "source": [
    "folders = [\n",
    "    '../fge_ckpt_1',\n",
    "    '../fge_ckpt_2'\n",
    "]\n",
    "error_fge_models_2b = predict(folders)\n",
    "error_fge_models_2b"
   ]
  },
  {
   "cell_type": "markdown",
   "id": "23e3074c",
   "metadata": {},
   "source": [
    "### 3 * Bank"
   ]
  },
  {
   "cell_type": "code",
   "execution_count": 23,
   "id": "37536b99",
   "metadata": {},
   "outputs": [
    {
     "name": "stdout",
     "output_type": "stream",
     "text": [
      "Files already downloaded and verified\n"
     ]
    },
    {
     "data": {
      "application/json": {
       "ascii": false,
       "bar_format": null,
       "colour": null,
       "elapsed": 0.019840717315673828,
       "initial": 0,
       "n": 0,
       "ncols": null,
       "nrows": 76,
       "postfix": null,
       "prefix": "",
       "rate": null,
       "total": 79,
       "unit": "it",
       "unit_divisor": 1000,
       "unit_scale": false
      },
      "application/vnd.jupyter.widget-view+json": {
       "model_id": "8e03af7a285a407881d2546fb9d475fd",
       "version_major": 2,
       "version_minor": 0
      },
      "text/plain": [
       "  0%|          | 0/79 [00:00<?, ?it/s]"
      ]
     },
     "metadata": {},
     "output_type": "display_data"
    },
    {
     "name": "stdout",
     "output_type": "stream",
     "text": [
      "ensemble accuracy: 0.9597\n"
     ]
    },
    {
     "data": {
      "text/plain": [
       "0.04030001163482666"
      ]
     },
     "execution_count": 23,
     "metadata": {},
     "output_type": "execute_result"
    }
   ],
   "source": [
    "folders = [\n",
    "    '../fge_ckpt_1',\n",
    "    '../fge_ckpt_2',\n",
    "    '../fge_ckpt_3'\n",
    "]\n",
    "error_fge_models_3b = predict(folders)\n",
    "error_fge_models_3b"
   ]
  }
 ],
 "metadata": {
  "kernelspec": {
   "display_name": "Python 3 (ipykernel)",
   "language": "python",
   "name": "python3"
  },
  "language_info": {
   "codemirror_mode": {
    "name": "ipython",
    "version": 3
   },
   "file_extension": ".py",
   "mimetype": "text/x-python",
   "name": "python",
   "nbconvert_exporter": "python",
   "pygments_lexer": "ipython3",
   "version": "3.9.5"
  }
 },
 "nbformat": 4,
 "nbformat_minor": 5
}
